{
 "cells": [
  {
   "cell_type": "code",
   "execution_count": 38,
   "id": "10e4c852",
   "metadata": {},
   "outputs": [
    {
     "name": "stdout",
     "output_type": "stream",
     "text": [
      "Requirement already satisfied: pytesseract in c:\\users\\computer corner\\ankd\\lib\\site-packages (0.3.10)\n",
      "Requirement already satisfied: packaging>=21.3 in c:\\users\\computer corner\\ankd\\lib\\site-packages (from pytesseract) (22.0)\n",
      "Requirement already satisfied: Pillow>=8.0.0 in c:\\users\\computer corner\\ankd\\lib\\site-packages (from pytesseract) (9.4.0)\n",
      "Note: you may need to restart the kernel to use updated packages.\n"
     ]
    }
   ],
   "source": [
    "pip install pytesseract"
   ]
  },
  {
   "cell_type": "code",
   "execution_count": 39,
   "id": "2aa8feb9",
   "metadata": {},
   "outputs": [
    {
     "name": "stdout",
     "output_type": "stream",
     "text": [
      "Requirement already satisfied: opencv-python in c:\\users\\computer corner\\ankd\\lib\\site-packages (4.8.0.74)\n",
      "Requirement already satisfied: numpy>=1.21.2 in c:\\users\\computer corner\\ankd\\lib\\site-packages (from opencv-python) (1.23.5)\n",
      "Note: you may need to restart the kernel to use updated packages.\n"
     ]
    }
   ],
   "source": [
    "pip install opencv-python\n"
   ]
  },
  {
   "cell_type": "code",
   "execution_count": 46,
   "id": "28fe3ad4",
   "metadata": {},
   "outputs": [
    {
     "data": {
      "text/plain": [
       "-1"
      ]
     },
     "execution_count": 46,
     "metadata": {},
     "output_type": "execute_result"
    }
   ],
   "source": [
    "import pytesseract\n",
    "import cv2\n",
    "\n",
    "pytesseract.pytesseract.tesseract_cmd =\"C:\\\\Program Files\\\\Tesseract-OCR\\\\tesseract.exe\"\n",
    "config = 'digits'\n",
    "\n",
    "image = cv2.imread(\"Downloads\\\\letters.png\")\n",
    "img_RGB = cv2.cvtColor(image, cv2.COLOR_BGR2RGB)\n",
    "\n",
    "#print(pytesseract.image_to_string(img_RGB))\n",
    "\n",
    "#results = pytesseract.image_to_boxes(img_RGB)\n",
    "#ih, iw, ic = image.shape\n",
    "#for box in results.splitlines():\n",
    "#    box = box.split(' ')\n",
    "#   print(box)\n",
    "\n",
    "#    x, y, w, h = int(box[1]), int(box[2]), int(box[3]), int(box[4])\n",
    "#    cv2.rectangle(image, (x, ih-y), (w, ih-h), (0, 255, 0), 2)\n",
    "#    cv2.putText(image, box[0], (x, ih-h), cv2.FONT_HERSHEY_COMPLEX, 1, (255, 0, 0), 1)\n",
    "\n",
    "results = pytesseract.image_to_data(img_RGB)\n",
    "for id, line in enumerate(results.splitlines()):\n",
    "\n",
    "     if id != 0:\n",
    "         line = line.split()\n",
    "         if len(line) == 12:\n",
    "             x, y, w, h = int(line[6]), int(line[7]), int(line[8]), int(line[9])\n",
    "             cv2.rectangle(image, (x, y), (w+x, h+y), (0, 255, 0), 2)\n",
    "             cv2.putText(image, line[11], (x, y), cv2.FONT_HERSHEY_COMPLEX, 1, (255, 0, 0), 2)\n",
    "\n",
    "cv2.imshow(\"Input\", image)\n",
    "cv2.waitKey(0)"
   ]
  }
 ],
 "metadata": {
  "kernelspec": {
   "display_name": "Python 3 (ipykernel)",
   "language": "python",
   "name": "python3"
  },
  "language_info": {
   "codemirror_mode": {
    "name": "ipython",
    "version": 3
   },
   "file_extension": ".py",
   "mimetype": "text/x-python",
   "name": "python",
   "nbconvert_exporter": "python",
   "pygments_lexer": "ipython3",
   "version": "3.10.9"
  }
 },
 "nbformat": 4,
 "nbformat_minor": 5
}
